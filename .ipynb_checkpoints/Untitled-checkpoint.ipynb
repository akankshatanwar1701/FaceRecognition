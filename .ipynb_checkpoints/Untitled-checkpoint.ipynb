{
 "cells": [
  {
   "cell_type": "code",
   "execution_count": null,
   "metadata": {},
   "outputs": [],
   "source": [
    "import cv2\n",
    "import numpy as np\n",
    "\n",
    "class face_detec:\n",
    "\tdef __init__(self):\n",
    "\t\tself.skip=0\n",
    "\t\tself.faces= []\n",
    "\t\tself.face=()\n",
    "\t\tself.offset=10\n",
    "\t\tself.dataset_path= './data/'\n",
    "\t\tself.filename=\"Default\"\n",
    "\n",
    "\n",
    "\tdef run(self):\n",
    "\t\tself.ret,self.frame= cap.read()\n",
    "\n",
    "\t    if self.ret == False:\n",
    "\t\t\tcontinue \n",
    "\n",
    "\t\tself.gray_frame=cv2.cvtColor(self.frame,cv2.COLOR_BGR2GRAY)\n",
    "\t\n",
    "\n",
    "\t\tself.faces=self.face_cascade.detectMultiScale(self.frame,1.3,5) \n",
    "\t\n",
    "\t\tself.faces=sorted(self.faces,key=lambda f:f[2]*f[3],reverse=True)   \n",
    "\t\tfor self.face in self.faces:\n",
    "\t\tx,y,w,h = self.face\n",
    "\t\tcv2.rectangle(self.frame,(x,y),(x+w,y+h),(0,255,255),2)\n",
    "\n",
    "\t\t\n",
    "\t\tself.offset = 10\n",
    "\t\tself.face_section = self.frame[y-offset:y+h+offset,x-offset:x+w+offset]\n",
    "\t\tself.face_section = cv2.resize(self.face_section,(100,100)) \n",
    "\t\tcv2.imshow(\"Face Section\",self.face_section)\n",
    "\n",
    "\t\tself.skip += 1\n",
    "\t\tif self.skip%10==0:\n",
    "\t\t\tface_data.append(self.face_section)\n",
    "\t\t\t\n",
    "\n",
    "\tdef\tshow(self):\n",
    "\t\tcv2.imshow(\"Frame\",self.frame)\n",
    "\n",
    "\tdef convert(self):\n",
    "\t\tself.face_data= np.asarray(self.face_data)\n",
    "\t\tself.face_data=self.face_data.reshape((self.face_data.shape[0],-1)) \n",
    "\n",
    "\n",
    "\tdef save(self):\n",
    "\t\tnp.save(self.dataset_path+self.file_name+'.npy',self.face_data) \n",
    "\t\tprint(\"Data successfully saved at\"+self.dataset_path+self.file_name+'.npy')\n"
   ]
  }
 ],
 "metadata": {
  "kernelspec": {
   "display_name": "Python 3",
   "language": "python",
   "name": "python3"
  },
  "language_info": {
   "codemirror_mode": {
    "name": "ipython",
    "version": 3
   },
   "file_extension": ".py",
   "mimetype": "text/x-python",
   "name": "python",
   "nbconvert_exporter": "python",
   "pygments_lexer": "ipython3",
   "version": "3.7.4"
  }
 },
 "nbformat": 4,
 "nbformat_minor": 2
}
